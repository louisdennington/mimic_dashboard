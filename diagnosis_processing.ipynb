{
  "cells": [
    {
      "cell_type": "code",
      "execution_count": 71,
      "id": "1fdaedc6",
      "metadata": {
        "colab": {
          "base_uri": "https://localhost:8080/"
        },
        "id": "1fdaedc6",
        "outputId": "d94c609e-4875-4dad-b619-1cdfdb8cbe74"
      },
      "outputs": [
        {
          "output_type": "stream",
          "name": "stdout",
          "text": [
            "Requirement already satisfied: icd-mappings in /usr/local/lib/python3.11/dist-packages (0.4.0)\n",
            "Requirement already satisfied: importlib-resources<6.0.0,>=5.12.0 in /usr/local/lib/python3.11/dist-packages (from icd-mappings) (5.13.0)\n"
          ]
        }
      ],
      "source": [
        "import pandas as pd\n",
        "import gc\n",
        "import re\n",
        "!pip install icd-mappings\n",
        "from icdmappings import Mapper\n",
        "import pandas as pd\n",
        "from sklearn.impute import KNNImputer\n",
        "from google.colab import drive"
      ]
    },
    {
      "cell_type": "code",
      "execution_count": 50,
      "id": "4145b995",
      "metadata": {
        "colab": {
          "base_uri": "https://localhost:8080/"
        },
        "id": "4145b995",
        "outputId": "33f5a029-a2fa-4db6-e207-c7b3311564d1"
      },
      "outputs": [
        {
          "output_type": "stream",
          "name": "stdout",
          "text": [
            "Mounted at /content/drive\n"
          ]
        }
      ],
      "source": [
        "# Load Diagnosis Dataset in chunks (all CPU-based)\n",
        "drive.mount('/content/drive', force_remount=True)\n",
        "file_path = \"/content/drive/MyDrive/MIMIC/mimic-iv-ed-2.2/ed/diagnosis.csv\"\n",
        "chunk_size = 100000  # Adjust based on memory\n",
        "chunks = []"
      ]
    },
    {
      "cell_type": "code",
      "execution_count": 51,
      "id": "07f378c4",
      "metadata": {
        "id": "07f378c4"
      },
      "outputs": [],
      "source": [
        "for chunk in pd.read_csv(file_path, chunksize=chunk_size):\n",
        "    chunk[\"icd_code\"] = chunk[\"icd_code\"].astype(\"category\")\n",
        "    chunk[\"icd_version\"] = chunk[\"icd_version\"].astype(\"int32\")\n",
        "    chunks.append(chunk)"
      ]
    },
    {
      "cell_type": "code",
      "execution_count": 52,
      "id": "85155b69",
      "metadata": {
        "id": "85155b69"
      },
      "outputs": [],
      "source": [
        "diagnosis = pd.concat(chunks, ignore_index=True)\n",
        "del chunks\n",
        "gc.collect()\n",
        "diagnosis = diagnosis[diagnosis[\"seq_num\"] == 1]"
      ]
    },
    {
      "cell_type": "code",
      "execution_count": 53,
      "id": "65d5095d",
      "metadata": {
        "colab": {
          "base_uri": "https://localhost:8080/"
        },
        "id": "65d5095d",
        "outputId": "193db8be-39bc-4703-87c3-e2192d7efbf3"
      },
      "outputs": [
        {
          "output_type": "stream",
          "name": "stdout",
          "text": [
            "Diagnosis dataset loaded using CPU.\n"
          ]
        }
      ],
      "source": [
        "print(\"Diagnosis dataset loaded using CPU.\")"
      ]
    },
    {
      "cell_type": "code",
      "source": [
        "print(diagnosis.head(20))"
      ],
      "metadata": {
        "colab": {
          "base_uri": "https://localhost:8080/"
        },
        "id": "ocuM1KjEL6ZF",
        "outputId": "ce046c11-0ccc-40d3-d2e7-b79f060ee01d"
      },
      "id": "ocuM1KjEL6ZF",
      "execution_count": 54,
      "outputs": [
        {
          "output_type": "stream",
          "name": "stdout",
          "text": [
            "    subject_id   stay_id  seq_num icd_code  icd_version  \\\n",
            "0     10000032  32952584        1     4589            9   \n",
            "3     10000032  33258284        1     5728            9   \n",
            "7     10000032  35968195        1     5715            9   \n",
            "10    10000032  38112554        1    78959            9   \n",
            "14    10000032  39399961        1    78097            9   \n",
            "16    10000084  35203156        1     R531           10   \n",
            "18    10000084  36954971        1    R4182           10   \n",
            "20    10000108  32522732        1     7822            9   \n",
            "21    10000108  36533795        1     5283            9   \n",
            "22    10000108  39513268        1     5283            9   \n",
            "23    10000115  30295111        1  S0181XD           10   \n",
            "25    10000115  38081480        1  S025XXA           10   \n",
            "28    10000117  30632130        1  S098XXA           10   \n",
            "31    10000117  32642808        1    R1310           10   \n",
            "32    10000117  33176849        1  S72092A           10   \n",
            "34    10000178  31721172        1     M109           10   \n",
            "35    10000248  35106839        1     2860            9   \n",
            "39    10000285  36555703        1    K5289           10   \n",
            "43    10000285  37909301        1    R1012           10   \n",
            "44    10000473  33267868        1     J189           10   \n",
            "\n",
            "                                            icd_title  \n",
            "0                                     HYPOTENSION NOS  \n",
            "3                            OTH SEQUELA, CHR LIV DIS  \n",
            "7                              CIRRHOSIS OF LIVER NOS  \n",
            "10                                      OTHER ASCITES  \n",
            "14                             ALTERED MENTAL STATUS   \n",
            "16                                           Weakness  \n",
            "18                 Altered mental status, unspecified  \n",
            "20                           LOCAL SUPRFICIAL SWELLNG  \n",
            "21                           CELLULITIS/ABSCESS MOUTH  \n",
            "22                           CELLULITIS/ABSCESS MOUTH  \n",
            "23  Laceration w/o foreign body of oth part of hea...  \n",
            "25    Fracture of tooth (traumatic), init for clos fx  \n",
            "28  Other specified injuries of head, initial enco...  \n",
            "31                             Dysphagia, unspecified  \n",
            "32  Oth fracture of head and neck of left femur, init  \n",
            "34                                  Gout, unspecified  \n",
            "35                             CONG FACTOR VIII DIORD  \n",
            "39  Other specified noninfective gastroenteritis a...  \n",
            "43                           Left upper quadrant pain  \n",
            "44                    Pneumonia, unspecified organism  \n"
          ]
        }
      ]
    },
    {
      "cell_type": "code",
      "execution_count": 55,
      "id": "f7cdf99e",
      "metadata": {
        "id": "f7cdf99e"
      },
      "outputs": [],
      "source": [
        "# Install and use icd-mappings\n",
        "mapper = Mapper()"
      ]
    },
    {
      "cell_type": "code",
      "execution_count": 56,
      "id": "38facbaf",
      "metadata": {
        "id": "38facbaf"
      },
      "outputs": [],
      "source": [
        "# Separate ICD9 and ICD10 codes\n",
        "diagnosis[\"icd_code_str\"] = diagnosis[\"icd_code\"].astype(str)\n",
        "icd9_mask = diagnosis[\"icd_version\"] == 9\n",
        "icd10_mask = diagnosis[\"icd_version\"] == 10"
      ]
    },
    {
      "cell_type": "code",
      "execution_count": 57,
      "id": "5ad6d304",
      "metadata": {
        "id": "5ad6d304"
      },
      "outputs": [],
      "source": [
        "# Map ICD9 → ICD10\n",
        "diagnosis[\"icd10_mapped\"] = None\n",
        "diagnosis.loc[icd9_mask, \"icd10_mapped\"] = mapper.map(\n",
        "    diagnosis.loc[icd9_mask, \"icd_code_str\"].tolist(),\n",
        "    source='icd9',\n",
        "    target='icd10'\n",
        ")"
      ]
    },
    {
      "cell_type": "code",
      "execution_count": 58,
      "id": "68e6ef68",
      "metadata": {
        "id": "68e6ef68"
      },
      "outputs": [],
      "source": [
        "# Map ICD10 (native and mapped) to chapters\n",
        "diagnosis[\"chapter\"] = None"
      ]
    },
    {
      "cell_type": "code",
      "execution_count": 59,
      "id": "c794db72",
      "metadata": {
        "id": "c794db72"
      },
      "outputs": [],
      "source": [
        "# ICD10 native\n",
        "diagnosis.loc[icd10_mask, \"chapter\"] = mapper.map(\n",
        "    diagnosis.loc[icd10_mask, \"icd_code_str\"].tolist(),\n",
        "    source='icd10',\n",
        "    target='chapter'\n",
        ")"
      ]
    },
    {
      "cell_type": "code",
      "execution_count": 60,
      "id": "4b12cd36",
      "metadata": {
        "id": "4b12cd36"
      },
      "outputs": [],
      "source": [
        "# ICD9 converted to ICD10 → chapter\n",
        "diagnosis.loc[icd9_mask, \"chapter\"] = mapper.map(\n",
        "    diagnosis.loc[icd9_mask, \"icd10_mapped\"],\n",
        "    source='icd10',\n",
        "    target='chapter'\n",
        ")"
      ]
    },
    {
      "cell_type": "code",
      "source": [
        "# Define chapter number to text mapping\n",
        "chapter_mapping = {\n",
        "    1:  \"Certain infectious and parasitic diseases\",\n",
        "    2:  \"Neoplasms\",\n",
        "    3:  \"Diseases of the blood and blood-forming organs and certain disorders involving the immune mechanism\",\n",
        "    4:  \"Endocrine, nutritional and metabolic diseases\",\n",
        "    5:  \"Mental and behavioural disorders\",\n",
        "    6:  \"Diseases of the nervous system\",\n",
        "    7:  \"Diseases of the eye and adnexa\",\n",
        "    8:  \"Diseases of the ear and mastoid process\",\n",
        "    9:  \"Diseases of the circulatory system\",\n",
        "    10: \"Diseases of the respiratory system\",\n",
        "    11: \"Diseases of the digestive system\",\n",
        "    12: \"Diseases of the skin and subcutaneous tissue\",\n",
        "    13: \"Diseases of the musculoskeletal system and connective tissue\",\n",
        "    14: \"Diseases of the genitourinary system\",\n",
        "    15: \"Pregnancy, childbirth and the puerperium\",\n",
        "    16: \"Certain conditions originating in the perinatal period\",\n",
        "    17: \"Congenital malformations, deformations and chromosomal abnormalities\",\n",
        "    18: \"Symptoms, signs and abnormal clinical and laboratory findings, not elsewhere classified\",\n",
        "    19: \"Injury, poisoning and certain other consequences of external causes\",\n",
        "    20: \"External causes of morbidity and mortality\",\n",
        "    21: \"Factors influencing health status and contact with health services\"\n",
        "}\n",
        "\n",
        "# Apply the mapping\n",
        "diagnosis[\"chapter_text\"] = (\n",
        "    diagnosis[\"chapter\"]\n",
        "    .replace(\"None\", pd.NA)     # Just in case string \"None\" exists\n",
        "    .astype(\"float\")            # Convert to float first (safe for missing)\n",
        "    .astype(\"Int64\")            # Nullable integer type\n",
        "    .map(chapter_mapping)\n",
        ")"
      ],
      "metadata": {
        "id": "GUWm8MvrO91m"
      },
      "id": "GUWm8MvrO91m",
      "execution_count": 61,
      "outputs": []
    },
    {
      "cell_type": "code",
      "source": [
        "# Load ICD-10 Supercategory Descriptions\n",
        "icd10_super_df = pd.read_csv(\n",
        "    \"/content/drive/MyDrive/MIMIC/icd10codes.txt\",\n",
        "    sep=\"\\t\",\n",
        "    usecols=[\"ICD-10-CM CODE\", \"Default CCSR CATEGORY DESCRIPTION IP\"]\n",
        ")\n",
        "icd10_super_df.columns = [\"icd_code\", \"dx_super\"]\n",
        "icd10_super_dict = {row[\"icd_code\"].strip(): row[\"dx_super\"] for _, row in icd10_super_df.iterrows()}\n",
        "\n",
        "# Load ICD-9 mappings from icd9codes.txt\n",
        "icd9_mapping = {}\n",
        "with open(\"/content/drive/MyDrive/MIMIC/icd9codes.txt\", \"r\") as f:\n",
        "    category = None\n",
        "    for line in f:\n",
        "        line = line.strip()\n",
        "        if re.match(r\"^\\d+\\s{2,}\", line):\n",
        "            category = line.split(maxsplit=1)[1]\n",
        "        elif category and line:\n",
        "            codes = line.split()\n",
        "            icd9_mapping.update({code.strip(): category for code in codes})\n",
        "print(\"✅ ICD-9 CCSR mapping loaded.\")\n",
        "\n",
        "# Standardize ICD code formatting\n",
        "diagnosis[\"icd_code\"] = diagnosis[\"icd_code\"].astype(str).str.strip().str.upper()\n",
        "\n",
        "# Correct misclassified ICD-10 codes\n",
        "icd10_misclassified = [\"J45901\", \"O8612\", \"S01312A\", \"W01190A\", \"R270\"]\n",
        "diagnosis.loc[\n",
        "    (diagnosis[\"icd_code\"].isin(icd10_misclassified)) & (diagnosis[\"icd_version\"] == 9),\n",
        "    \"icd_version\"\n",
        "] = 10\n",
        "print(\"✅ Misclassified ICD-10 codes corrected.\")\n",
        "\n",
        "# Map codes to supercategories\n",
        "diagnosis[\"dx_super\"] = diagnosis[\"icd_code\"].map(icd10_super_dict)\n",
        "diagnosis[\"dx_super\"] = diagnosis[\"dx_super\"].fillna(diagnosis[\"icd_code\"].map(icd9_mapping))\n",
        "\n",
        "print(\"✅ Supercategory descriptions added to diagnosis.\")"
      ],
      "metadata": {
        "id": "pFeJX32bSAph",
        "outputId": "4cf4df76-e230-4734-e045-5284b84f5158",
        "colab": {
          "base_uri": "https://localhost:8080/"
        }
      },
      "id": "pFeJX32bSAph",
      "execution_count": 64,
      "outputs": [
        {
          "output_type": "stream",
          "name": "stdout",
          "text": [
            "✅ ICD-9 CCSR mapping loaded.\n",
            "✅ Misclassified ICD-10 codes corrected.\n",
            "✅ Supercategory descriptions added to diagnosis.\n"
          ]
        }
      ]
    },
    {
      "cell_type": "code",
      "execution_count": 65,
      "id": "81f7a665",
      "metadata": {
        "colab": {
          "base_uri": "https://localhost:8080/"
        },
        "id": "81f7a665",
        "outputId": "76ff29a3-c768-4d55-9fa1-39baa017b564"
      },
      "outputs": [
        {
          "output_type": "stream",
          "name": "stdout",
          "text": [
            "    subject_id   stay_id  seq_num icd_code  icd_version  \\\n",
            "0     10000032  32952584        1     4589            9   \n",
            "3     10000032  33258284        1     5728            9   \n",
            "7     10000032  35968195        1     5715            9   \n",
            "10    10000032  38112554        1    78959            9   \n",
            "14    10000032  39399961        1    78097            9   \n",
            "16    10000084  35203156        1     R531           10   \n",
            "18    10000084  36954971        1    R4182           10   \n",
            "20    10000108  32522732        1     7822            9   \n",
            "21    10000108  36533795        1     5283            9   \n",
            "22    10000108  39513268        1     5283            9   \n",
            "23    10000115  30295111        1  S0181XD           10   \n",
            "25    10000115  38081480        1  S025XXA           10   \n",
            "28    10000117  30632130        1  S098XXA           10   \n",
            "31    10000117  32642808        1    R1310           10   \n",
            "32    10000117  33176849        1  S72092A           10   \n",
            "34    10000178  31721172        1     M109           10   \n",
            "35    10000248  35106839        1     2860            9   \n",
            "39    10000285  36555703        1    K5289           10   \n",
            "43    10000285  37909301        1    R1012           10   \n",
            "44    10000473  33267868        1     J189           10   \n",
            "\n",
            "                                            icd_title icd_code_str  \\\n",
            "0                                     HYPOTENSION NOS         4589   \n",
            "3                            OTH SEQUELA, CHR LIV DIS         5728   \n",
            "7                              CIRRHOSIS OF LIVER NOS         5715   \n",
            "10                                      OTHER ASCITES        78959   \n",
            "14                             ALTERED MENTAL STATUS         78097   \n",
            "16                                           Weakness         R531   \n",
            "18                 Altered mental status, unspecified        R4182   \n",
            "20                           LOCAL SUPRFICIAL SWELLNG         7822   \n",
            "21                           CELLULITIS/ABSCESS MOUTH         5283   \n",
            "22                           CELLULITIS/ABSCESS MOUTH         5283   \n",
            "23  Laceration w/o foreign body of oth part of hea...      S0181XD   \n",
            "25    Fracture of tooth (traumatic), init for clos fx      S025XXA   \n",
            "28  Other specified injuries of head, initial enco...      S098XXA   \n",
            "31                             Dysphagia, unspecified        R1310   \n",
            "32  Oth fracture of head and neck of left femur, init      S72092A   \n",
            "34                                  Gout, unspecified         M109   \n",
            "35                             CONG FACTOR VIII DIORD         2860   \n",
            "39  Other specified noninfective gastroenteritis a...        K5289   \n",
            "43                           Left upper quadrant pain        R1012   \n",
            "44                    Pneumonia, unspecified organism         J189   \n",
            "\n",
            "   icd10_mapped chapter                                       chapter_text  \\\n",
            "0          I959       9                 Diseases of the circulatory system   \n",
            "3         K7290      11                   Diseases of the digestive system   \n",
            "7         K7469      11                   Diseases of the digestive system   \n",
            "10         R188      18  Symptoms, signs and abnormal clinical and labo...   \n",
            "14        R4182      18  Symptoms, signs and abnormal clinical and labo...   \n",
            "16         None      18  Symptoms, signs and abnormal clinical and labo...   \n",
            "18         None      18  Symptoms, signs and abnormal clinical and labo...   \n",
            "20         R229      18  Symptoms, signs and abnormal clinical and labo...   \n",
            "21         K122      11                   Diseases of the digestive system   \n",
            "22         K122      11                   Diseases of the digestive system   \n",
            "23         None      19  Injury, poisoning and certain other consequenc...   \n",
            "25         None      19  Injury, poisoning and certain other consequenc...   \n",
            "28         None      19  Injury, poisoning and certain other consequenc...   \n",
            "31         None      18  Symptoms, signs and abnormal clinical and labo...   \n",
            "32         None      19  Injury, poisoning and certain other consequenc...   \n",
            "34         None      13  Diseases of the musculoskeletal system and con...   \n",
            "35          D66       3  Diseases of the blood and blood-forming organs...   \n",
            "39         None      11                   Diseases of the digestive system   \n",
            "43         None      18  Symptoms, signs and abnormal clinical and labo...   \n",
            "44         None      10                 Diseases of the respiratory system   \n",
            "\n",
            "                                             dx_super  \n",
            "0                           Other circulatory disease  \n",
            "3                                Other liver diseases  \n",
            "7                                Other liver diseases  \n",
            "10                               Other liver diseases  \n",
            "14                       Residual codes; unclassified  \n",
            "16                                Malaise and fatigue  \n",
            "18                  Nervous system signs and symptoms  \n",
            "20                               Other skin disorders  \n",
            "21                Diseases of mouth; excluding dental  \n",
            "22                Diseases of mouth; excluding dental  \n",
            "23  Open wounds of head and neck, subsequent encou...  \n",
            "25       Fracture of head and neck, initial encounter  \n",
            "28                             Other specified injury  \n",
            "31                                          Dysphagia  \n",
            "32  Fracture of the neck of the femur (hip), initi...  \n",
            "34                                               Gout  \n",
            "35              Coagulation and hemorrhagic disorders  \n",
            "39                      Noninfectious gastroenteritis  \n",
            "43  Abdominal pain and other digestive/abdomen sig...  \n",
            "44     Pneumonia (except that caused by tuberculosis)  \n"
          ]
        }
      ],
      "source": [
        "# Show example rows\n",
        "print(diagnosis.head(20))"
      ]
    },
    {
      "cell_type": "code",
      "source": [
        "# 🔹 1. Load the EDstays table\n",
        "edstays_path = \"/content/drive/MyDrive/MIMIC/mimic-iv-ed-2.2/ed/edstays.csv\"\n",
        "edstays = pd.read_csv(edstays_path, parse_dates=[\"intime\", \"outtime\"])\n",
        "print(\"✅ EDstays table loaded.\")\n",
        "\n",
        "# 🔹 2. Check for missing values\n",
        "print(\"\\n🔍 Missing values in EDstays:\")\n",
        "missing = edstays.isnull().sum()\n",
        "total = len(edstays)\n",
        "missing_summary = pd.DataFrame({\n",
        "    'Missing (n)': missing,\n",
        "    'Missing (%)': (missing / total * 100).round(2)\n",
        "})\n",
        "print(missing_summary)\n",
        "\n",
        "# 🔹 3. Calculate length of stay in seconds\n",
        "edstays[\"length_of_stay\"] = (edstays[\"outtime\"] - edstays[\"intime\"]).dt.total_seconds()\n",
        "print(\"\\n⏱️ Length of stay column added.\")\n",
        "\n",
        "# 🔹 4. Merge with diagnosis table on 'stay_id' (assumes diagnosis is already loaded)\n",
        "original_rows = len(edstays)\n",
        "edstays = edstays.merge(diagnosis, on=\"stay_id\", how=\"left\")\n",
        "merged_rows = len(edstays)\n",
        "\n",
        "print(f\"\\n🔗 Merge complete. Rows before: {original_rows}, after: {merged_rows}\")\n",
        "if merged_rows < original_rows:\n",
        "    print(\"⚠️ Warning: Some rows were lost in the merge.\")\n",
        "elif merged_rows > original_rows:\n",
        "    print(\"⚠️ Extra rows added due to multiple matches (one-to-many join).\")\n",
        "else:\n",
        "    print(\"✅ No rows lost during merge.\")\n",
        "\n"
      ],
      "metadata": {
        "id": "uw-L2fk8QuLT",
        "outputId": "1c888866-ae4d-4ca4-a130-1eb3974a4217",
        "colab": {
          "base_uri": "https://localhost:8080/"
        }
      },
      "id": "uw-L2fk8QuLT",
      "execution_count": 68,
      "outputs": [
        {
          "output_type": "stream",
          "name": "stdout",
          "text": [
            "✅ EDstays table loaded.\n",
            "\n",
            "🔍 Missing values in EDstays:\n",
            "                   Missing (n)  Missing (%)\n",
            "subject_id                   0         0.00\n",
            "hadm_id                 222071        52.24\n",
            "stay_id                      0         0.00\n",
            "intime                       0         0.00\n",
            "outtime                      0         0.00\n",
            "gender                       0         0.00\n",
            "race                         0         0.00\n",
            "arrival_transport            0         0.00\n",
            "disposition                  0         0.00\n",
            "\n",
            "⏱️ Length of stay column added.\n",
            "\n",
            "🔗 Merge complete. Rows before: 425087, after: 425087\n",
            "✅ No rows lost during merge.\n"
          ]
        }
      ]
    },
    {
      "cell_type": "code",
      "source": [
        "print(edstays.head(20))"
      ],
      "metadata": {
        "id": "6QyURpWuQ4iJ",
        "outputId": "0121878d-2799-4eab-85be-e0128fe3881d",
        "colab": {
          "base_uri": "https://localhost:8080/"
        }
      },
      "id": "6QyURpWuQ4iJ",
      "execution_count": 69,
      "outputs": [
        {
          "output_type": "stream",
          "name": "stdout",
          "text": [
            "    subject_id_x     hadm_id   stay_id              intime  \\\n",
            "0       10000032  22595853.0  33258284 2180-05-06 19:17:00   \n",
            "1       10000032  22841357.0  38112554 2180-06-26 15:54:00   \n",
            "2       10000032  25742920.0  35968195 2180-08-05 20:58:00   \n",
            "3       10000032  29079034.0  32952584 2180-07-22 16:24:00   \n",
            "4       10000032  29079034.0  39399961 2180-07-23 05:54:00   \n",
            "5       10000084  23052089.0  35203156 2160-11-20 20:36:00   \n",
            "6       10000084  29888819.0  36954971 2160-12-27 18:32:00   \n",
            "7       10000108  27250926.0  36533795 2163-09-27 16:18:00   \n",
            "8       10000108         NaN  32522732 2163-09-16 16:34:00   \n",
            "9       10000108         NaN  39513268 2163-09-24 16:14:00   \n",
            "10      10000115         NaN  30295111 2154-12-17 16:37:00   \n",
            "11      10000115         NaN  38081480 2154-12-10 02:04:00   \n",
            "12      10000117  22927623.0  32642808 2181-11-14 21:51:00   \n",
            "13      10000117  27988844.0  33176849 2183-09-18 08:41:00   \n",
            "14      10000117         NaN  30632130 2183-07-17 10:30:00   \n",
            "15      10000178         NaN  31721172 2157-04-08 09:58:00   \n",
            "16      10000248  20600184.0  35106839 2192-11-29 18:44:00   \n",
            "17      10000285         NaN  36555703 2161-11-08 14:19:00   \n",
            "18      10000285         NaN  37909301 2159-11-26 14:22:00   \n",
            "19      10000473         NaN  33267868 2138-03-15 20:07:00   \n",
            "\n",
            "               outtime gender                      race arrival_transport  \\\n",
            "0  2180-05-06 23:30:00      F                     WHITE         AMBULANCE   \n",
            "1  2180-06-26 21:31:00      F                     WHITE         AMBULANCE   \n",
            "2  2180-08-06 01:44:00      F                     WHITE         AMBULANCE   \n",
            "3  2180-07-23 05:54:00      F                     WHITE         AMBULANCE   \n",
            "4  2180-07-23 14:00:00      F                     WHITE         AMBULANCE   \n",
            "5  2160-11-21 03:20:00      M                     WHITE           WALK IN   \n",
            "6  2160-12-28 16:07:00      M                     WHITE         AMBULANCE   \n",
            "7  2163-09-28 09:04:00      M                     WHITE           WALK IN   \n",
            "8  2163-09-16 18:13:00      M                     WHITE           WALK IN   \n",
            "9  2163-09-24 21:02:00      M                     WHITE           WALK IN   \n",
            "10 2154-12-17 16:59:00      M                     WHITE           WALK IN   \n",
            "11 2154-12-10 05:59:00      M                     WHITE           WALK IN   \n",
            "12 2181-11-15 02:06:42      F                     WHITE           WALK IN   \n",
            "13 2183-09-18 20:20:00      F                     WHITE           WALK IN   \n",
            "14 2183-07-17 11:31:00      F                     WHITE           WALK IN   \n",
            "15 2157-04-08 15:30:00      F                     ASIAN           WALK IN   \n",
            "16 2192-11-30 03:32:00      M                     WHITE           WALK IN   \n",
            "17 2161-11-08 21:06:00      M                     OTHER           WALK IN   \n",
            "18 2159-11-26 19:17:00      M                     OTHER           WALK IN   \n",
            "19 2138-03-16 04:04:00      M  ASIAN - SOUTH EAST ASIAN           WALK IN   \n",
            "\n",
            "   disposition  length_of_stay  subject_id_y  seq_num icd_code  icd_version  \\\n",
            "0     ADMITTED         15180.0    10000032.0      1.0     5728          9.0   \n",
            "1     ADMITTED         20220.0    10000032.0      1.0    78959          9.0   \n",
            "2     ADMITTED         17160.0    10000032.0      1.0     5715          9.0   \n",
            "3         HOME         48600.0    10000032.0      1.0     4589          9.0   \n",
            "4     ADMITTED         29160.0    10000032.0      1.0    78097          9.0   \n",
            "5     ADMITTED         24240.0    10000084.0      1.0     R531         10.0   \n",
            "6         HOME         77700.0    10000084.0      1.0    R4182         10.0   \n",
            "7         HOME         60360.0    10000108.0      1.0     5283          9.0   \n",
            "8         HOME          5940.0    10000108.0      1.0     7822          9.0   \n",
            "9         HOME         17280.0    10000108.0      1.0     5283          9.0   \n",
            "10        HOME          1320.0    10000115.0      1.0  S0181XD         10.0   \n",
            "11        HOME         14100.0    10000115.0      1.0  S025XXA         10.0   \n",
            "12    ADMITTED         15342.0    10000117.0      1.0    R1310         10.0   \n",
            "13    ADMITTED         41940.0    10000117.0      1.0  S72092A         10.0   \n",
            "14        HOME          3660.0    10000117.0      1.0  S098XXA         10.0   \n",
            "15        HOME         19920.0    10000178.0      1.0     M109         10.0   \n",
            "16    ADMITTED         31680.0    10000248.0      1.0     2860          9.0   \n",
            "17        HOME         24420.0    10000285.0      1.0    K5289         10.0   \n",
            "18        HOME         17700.0    10000285.0      1.0    R1012         10.0   \n",
            "19        HOME         28620.0    10000473.0      1.0     J189         10.0   \n",
            "\n",
            "                                            icd_title icd_code_str  \\\n",
            "0                            OTH SEQUELA, CHR LIV DIS         5728   \n",
            "1                                       OTHER ASCITES        78959   \n",
            "2                              CIRRHOSIS OF LIVER NOS         5715   \n",
            "3                                     HYPOTENSION NOS         4589   \n",
            "4                              ALTERED MENTAL STATUS         78097   \n",
            "5                                            Weakness         R531   \n",
            "6                  Altered mental status, unspecified        R4182   \n",
            "7                            CELLULITIS/ABSCESS MOUTH         5283   \n",
            "8                            LOCAL SUPRFICIAL SWELLNG         7822   \n",
            "9                            CELLULITIS/ABSCESS MOUTH         5283   \n",
            "10  Laceration w/o foreign body of oth part of hea...      S0181XD   \n",
            "11    Fracture of tooth (traumatic), init for clos fx      S025XXA   \n",
            "12                             Dysphagia, unspecified        R1310   \n",
            "13  Oth fracture of head and neck of left femur, init      S72092A   \n",
            "14  Other specified injuries of head, initial enco...      S098XXA   \n",
            "15                                  Gout, unspecified         M109   \n",
            "16                             CONG FACTOR VIII DIORD         2860   \n",
            "17  Other specified noninfective gastroenteritis a...        K5289   \n",
            "18                           Left upper quadrant pain        R1012   \n",
            "19                    Pneumonia, unspecified organism         J189   \n",
            "\n",
            "   icd10_mapped chapter                                       chapter_text  \\\n",
            "0         K7290      11                   Diseases of the digestive system   \n",
            "1          R188      18  Symptoms, signs and abnormal clinical and labo...   \n",
            "2         K7469      11                   Diseases of the digestive system   \n",
            "3          I959       9                 Diseases of the circulatory system   \n",
            "4         R4182      18  Symptoms, signs and abnormal clinical and labo...   \n",
            "5          None      18  Symptoms, signs and abnormal clinical and labo...   \n",
            "6          None      18  Symptoms, signs and abnormal clinical and labo...   \n",
            "7          K122      11                   Diseases of the digestive system   \n",
            "8          R229      18  Symptoms, signs and abnormal clinical and labo...   \n",
            "9          K122      11                   Diseases of the digestive system   \n",
            "10         None      19  Injury, poisoning and certain other consequenc...   \n",
            "11         None      19  Injury, poisoning and certain other consequenc...   \n",
            "12         None      18  Symptoms, signs and abnormal clinical and labo...   \n",
            "13         None      19  Injury, poisoning and certain other consequenc...   \n",
            "14         None      19  Injury, poisoning and certain other consequenc...   \n",
            "15         None      13  Diseases of the musculoskeletal system and con...   \n",
            "16          D66       3  Diseases of the blood and blood-forming organs...   \n",
            "17         None      11                   Diseases of the digestive system   \n",
            "18         None      18  Symptoms, signs and abnormal clinical and labo...   \n",
            "19         None      10                 Diseases of the respiratory system   \n",
            "\n",
            "                                             dx_super  \n",
            "0                                Other liver diseases  \n",
            "1                                Other liver diseases  \n",
            "2                                Other liver diseases  \n",
            "3                           Other circulatory disease  \n",
            "4                        Residual codes; unclassified  \n",
            "5                                 Malaise and fatigue  \n",
            "6                   Nervous system signs and symptoms  \n",
            "7                 Diseases of mouth; excluding dental  \n",
            "8                                Other skin disorders  \n",
            "9                 Diseases of mouth; excluding dental  \n",
            "10  Open wounds of head and neck, subsequent encou...  \n",
            "11       Fracture of head and neck, initial encounter  \n",
            "12                                          Dysphagia  \n",
            "13  Fracture of the neck of the femur (hip), initi...  \n",
            "14                             Other specified injury  \n",
            "15                                               Gout  \n",
            "16              Coagulation and hemorrhagic disorders  \n",
            "17                      Noninfectious gastroenteritis  \n",
            "18  Abdominal pain and other digestive/abdomen sig...  \n",
            "19     Pneumonia (except that caused by tuberculosis)  \n"
          ]
        }
      ]
    },
    {
      "cell_type": "code",
      "source": [
        "# Load triage table\n",
        "triage = pd.read_csv(\"/content/drive/MyDrive/MIMIC/mimic-iv-ed-2.2/ed/triage.csv\")\n",
        "\n",
        "# Drop 'pain' column\n",
        "triage = triage.drop(columns=[\"pain\"])\n",
        "\n",
        "# Define vital sign columns and outlier thresholds\n",
        "vital_signs_columns = ['temperature', 'heartrate', 'resprate', 'o2sat', 'sbp', 'dbp']\n",
        "outlier_ranges = {\n",
        "    'temperature': (82.4, 109.4),\n",
        "    'heartrate': (25, 225),\n",
        "    'resprate': (6, 50),\n",
        "    'o2sat': (60, 100),\n",
        "    'sbp': (60, 250),\n",
        "    'dbp': (30, 150),\n",
        "}\n",
        "\n",
        "# Convert Celsius to Fahrenheit only when plausible\n",
        "def convert_celsius_to_fahrenheit(temp):\n",
        "    if pd.notna(temp) and 28 <= temp <= 43:\n",
        "        return (temp * 9 / 5) + 32\n",
        "    return temp\n",
        "\n",
        "triage['temperature'] = triage['temperature'].apply(convert_celsius_to_fahrenheit)\n",
        "\n",
        "# Remove outliers based on the defined thresholds\n",
        "for col, (low, high) in outlier_ranges.items():\n",
        "    triage.loc[(triage[col] < low) | (triage[col] > high), col] = pd.NA\n",
        "\n",
        "# Keep a copy to track imputation\n",
        "triage_before_imputation = triage.copy()\n",
        "\n",
        "# Apply KNN imputation\n",
        "imputer = KNNImputer(n_neighbors=5)\n",
        "triage[vital_signs_columns] = imputer.fit_transform(triage[vital_signs_columns])\n",
        "\n",
        "# Count total number of values imputed\n",
        "imputed_mask = triage_before_imputation[vital_signs_columns].isnull() & triage[vital_signs_columns].notnull()\n",
        "imputed_total = imputed_mask.sum().sum()\n",
        "print(f\"Total values imputed by KNN: {imputed_total}\")\n",
        "\n",
        "# Join triage to edstays using a left join on stay_id\n",
        "pre_merge_rows = edstays.shape[0]\n",
        "edstays = edstays.merge(triage, on=\"stay_id\", how=\"left\")\n",
        "post_merge_rows = edstays.shape[0]\n",
        "\n",
        "print(f\"Join complete. Rows before merge: {pre_merge_rows}, after merge: {post_merge_rows}\")\n",
        "nulls_after_merge = edstays.isnull().sum()\n",
        "print(\"Null values by column after merge:\")\n",
        "print(nulls_after_merge[nulls_after_merge > 0])"
      ],
      "metadata": {
        "id": "H-WZDwm8UDUw"
      },
      "id": "H-WZDwm8UDUw",
      "execution_count": null,
      "outputs": []
    },
    {
      "cell_type": "code",
      "source": [
        "print(edstays.head(20))"
      ],
      "metadata": {
        "id": "PznTZeZ8UVGv"
      },
      "id": "PznTZeZ8UVGv",
      "execution_count": null,
      "outputs": []
    },
    {
      "cell_type": "code",
      "source": [
        "# Load vitalsign table\n",
        "vitalsign_path = \"/content/drive/MyDrive/MIMIC/mimic-iv-ed-2.2/ed/vitalsign.csv\"\n",
        "vitalsign = pd.read_csv(vitalsign_path)\n",
        "\n",
        "print(f\"Vitalsign data loaded: {vitalsign.shape[0]} rows\")\n",
        "\n",
        "# Select relevant columns from edstays\n",
        "columns_to_add = ['stay_id', 'chapter', 'chapter_text', 'dx_super']\n",
        "edstays_subset = edstays[columns_to_add].drop_duplicates()\n",
        "\n",
        "# Join with vitalsign on stay_id\n",
        "pre_merge_rows = vitalsign.shape[0]\n",
        "vitalsign = vitalsign.merge(edstays_subset, on=\"stay_id\", how=\"left\")\n",
        "post_merge_rows = vitalsign.shape[0]\n",
        "\n",
        "print(f\"Join complete. Rows before: {pre_merge_rows}, after: {post_merge_rows}\")\n",
        "nulls = vitalsign[[\"chapter\", \"chapter_text\", \"dx_super\"]].isnull().sum()\n",
        "print(\"Nulls in joined columns:\")\n",
        "print(nulls[nulls > 0])\n",
        "\n",
        "print(vitalsign.head(20))"
      ],
      "metadata": {
        "id": "a_64Y52CVGG5"
      },
      "id": "a_64Y52CVGG5",
      "execution_count": null,
      "outputs": []
    }
  ],
  "metadata": {
    "language_info": {
      "name": "python"
    },
    "colab": {
      "provenance": []
    },
    "kernelspec": {
      "name": "python3",
      "display_name": "Python 3"
    }
  },
  "nbformat": 4,
  "nbformat_minor": 5
}