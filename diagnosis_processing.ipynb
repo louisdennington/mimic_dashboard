{
 "cells": [
  {
   "cell_type": "code",
   "execution_count": null,
   "id": "e6652a87",
   "metadata": {},
   "outputs": [],
   "source": [
    "# diagnosis_processing_cleaned.py"
   ]
  },
  {
   "cell_type": "code",
   "execution_count": null,
   "id": "1fdaedc6",
   "metadata": {},
   "outputs": [],
   "source": [
    "import pandas as pd\n",
    "import gc\n",
    "from icd_mapping import Mapper"
   ]
  },
  {
   "cell_type": "code",
   "execution_count": null,
   "id": "4145b995",
   "metadata": {},
   "outputs": [],
   "source": [
    "# Load Diagnosis Dataset in chunks (all CPU-based)\n",
    "file_path = \"/content/drive/MyDrive/MIMIC/mimic-iv-ed-2.2/ed/diagnosis.csv.gz\"\n",
    "chunk_size = 100000  # Adjust based on memory\n",
    "chunks = []"
   ]
  },
  {
   "cell_type": "code",
   "execution_count": null,
   "id": "07f378c4",
   "metadata": {},
   "outputs": [],
   "source": [
    "for chunk in pd.read_csv(file_path, compression='gzip', usecols=[\"stay_id\", \"subject_id\", \"icd_code\", \"icd_version\"], chunksize=chunk_size):\n",
    "    chunk[\"icd_code\"] = chunk[\"icd_code\"].astype(\"category\")\n",
    "    chunk[\"icd_version\"] = chunk[\"icd_version\"].astype(\"int32\")\n",
    "    chunks.append(chunk)"
   ]
  },
  {
   "cell_type": "code",
   "execution_count": null,
   "id": "85155b69",
   "metadata": {},
   "outputs": [],
   "source": [
    "diagnosis = pd.concat(chunks, ignore_index=True)\n",
    "del chunks\n",
    "gc.collect()"
   ]
  },
  {
   "cell_type": "code",
   "execution_count": null,
   "id": "65d5095d",
   "metadata": {},
   "outputs": [],
   "source": [
    "print(\"✅ Diagnosis dataset loaded using CPU.\")"
   ]
  },
  {
   "cell_type": "code",
   "execution_count": null,
   "id": "f7cdf99e",
   "metadata": {},
   "outputs": [],
   "source": [
    "# Install and use icd-mappings\n",
    "!pip install -q icd-mappings\n",
    "from icd_mapping import Mapper\n",
    "mapper = Mapper()"
   ]
  },
  {
   "cell_type": "code",
   "execution_count": null,
   "id": "38facbaf",
   "metadata": {},
   "outputs": [],
   "source": [
    "# Separate ICD9 and ICD10 codes\n",
    "diagnosis[\"icd_code_str\"] = diagnosis[\"icd_code\"].astype(str)\n",
    "icd9_mask = diagnosis[\"icd_version\"] == 9\n",
    "icd10_mask = diagnosis[\"icd_version\"] == 10"
   ]
  },
  {
   "cell_type": "code",
   "execution_count": null,
   "id": "5ad6d304",
   "metadata": {},
   "outputs": [],
   "source": [
    "# Map ICD9 → ICD10\n",
    "diagnosis[\"icd10_mapped\"] = None\n",
    "diagnosis.loc[icd9_mask, \"icd10_mapped\"] = mapper.map(\n",
    "    diagnosis.loc[icd9_mask, \"icd_code_str\"].tolist(),\n",
    "    source='icd9',\n",
    "    target='icd10'\n",
    ")"
   ]
  },
  {
   "cell_type": "code",
   "execution_count": null,
   "id": "68e6ef68",
   "metadata": {},
   "outputs": [],
   "source": [
    "# Map ICD10 (native and mapped) to chapters\n",
    "diagnosis[\"chapter\"] = None"
   ]
  },
  {
   "cell_type": "code",
   "execution_count": null,
   "id": "c794db72",
   "metadata": {},
   "outputs": [],
   "source": [
    "# ICD10 native\n",
    "diagnosis.loc[icd10_mask, \"chapter\"] = mapper.map(\n",
    "    diagnosis.loc[icd10_mask, \"icd_code_str\"].tolist(),\n",
    "    source='icd10',\n",
    "    target='chapter'\n",
    ")"
   ]
  },
  {
   "cell_type": "code",
   "execution_count": null,
   "id": "4b12cd36",
   "metadata": {},
   "outputs": [],
   "source": [
    "# ICD9 converted to ICD10 → chapter\n",
    "diagnosis.loc[icd9_mask, \"chapter\"] = mapper.map(\n",
    "    diagnosis.loc[icd9_mask, \"icd10_mapped\"],\n",
    "    source='icd10',\n",
    "    target='chapter'\n",
    ")"
   ]
  },
  {
   "cell_type": "code",
   "execution_count": null,
   "id": "81f7a665",
   "metadata": {},
   "outputs": [],
   "source": [
    "# Show example rows\n",
    "print(diagnosis.head(20))"
   ]
  }
 ],
 "metadata": {
  "language_info": {
   "name": "python"
  }
 },
 "nbformat": 4,
 "nbformat_minor": 5
}
