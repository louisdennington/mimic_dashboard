{
  "cells": [
    {
      "cell_type": "code",
      "execution_count": 17,
      "id": "1fdaedc6",
      "metadata": {
        "id": "1fdaedc6",
        "outputId": "13e39065-1059-4dc9-ffea-582f1595d5a8",
        "colab": {
          "base_uri": "https://localhost:8080/"
        }
      },
      "outputs": [
        {
          "output_type": "stream",
          "name": "stdout",
          "text": [
            "Requirement already satisfied: icd-mappings in /usr/local/lib/python3.11/dist-packages (0.4.0)\n",
            "Requirement already satisfied: importlib-resources<6.0.0,>=5.12.0 in /usr/local/lib/python3.11/dist-packages (from icd-mappings) (5.13.0)\n",
            "Mounted at /content/drive\n"
          ]
        }
      ],
      "source": [
        "import pandas as pd\n",
        "import gc\n",
        "!pip install icd-mappings\n",
        "from icdmappings import Mapper\n",
        "from google.colab import drive"
      ]
    },
    {
      "cell_type": "code",
      "execution_count": 30,
      "id": "4145b995",
      "metadata": {
        "id": "4145b995",
        "outputId": "0e6414ed-cca2-4ab5-99b3-3e3ac896cbd7",
        "colab": {
          "base_uri": "https://localhost:8080/"
        }
      },
      "outputs": [
        {
          "output_type": "stream",
          "name": "stdout",
          "text": [
            "Mounted at /content/drive\n"
          ]
        }
      ],
      "source": [
        "# Load Diagnosis Dataset in chunks (all CPU-based)\n",
        "drive.mount('/content/drive', force_remount=True)\n",
        "file_path = \"/content/drive/MyDrive/MIMIC/mimic-iv-ed-2.2/ed/diagnosis.csv\"\n",
        "chunk_size = 100000  # Adjust based on memory\n",
        "chunks = []"
      ]
    },
    {
      "cell_type": "code",
      "execution_count": 31,
      "id": "07f378c4",
      "metadata": {
        "id": "07f378c4"
      },
      "outputs": [],
      "source": [
        "for chunk in pd.read_csv(file_path, chunksize=chunk_size):\n",
        "    chunk[\"icd_code\"] = chunk[\"icd_code\"].astype(\"category\")\n",
        "    chunk[\"icd_version\"] = chunk[\"icd_version\"].astype(\"int32\")\n",
        "    chunks.append(chunk)"
      ]
    },
    {
      "cell_type": "code",
      "execution_count": 32,
      "id": "85155b69",
      "metadata": {
        "id": "85155b69",
        "outputId": "64073819-1ce4-4358-e912-55fe1bf042aa",
        "colab": {
          "base_uri": "https://localhost:8080/"
        }
      },
      "outputs": [
        {
          "output_type": "execute_result",
          "data": {
            "text/plain": [
              "92"
            ]
          },
          "metadata": {},
          "execution_count": 32
        }
      ],
      "source": [
        "diagnosis = pd.concat(chunks, ignore_index=True)\n",
        "del chunks\n",
        "gc.collect()"
      ]
    },
    {
      "cell_type": "code",
      "execution_count": 33,
      "id": "65d5095d",
      "metadata": {
        "id": "65d5095d",
        "outputId": "64729a65-c3dd-45b5-a368-e7eb3bbe83f4",
        "colab": {
          "base_uri": "https://localhost:8080/"
        }
      },
      "outputs": [
        {
          "output_type": "stream",
          "name": "stdout",
          "text": [
            "Diagnosis dataset loaded using CPU.\n"
          ]
        }
      ],
      "source": [
        "print(\"Diagnosis dataset loaded using CPU.\")"
      ]
    },
    {
      "cell_type": "code",
      "source": [
        "print(diagnosis.head(20))"
      ],
      "metadata": {
        "id": "ocuM1KjEL6ZF",
        "outputId": "6fd1200b-f63a-4550-c365-25ab7666b241",
        "colab": {
          "base_uri": "https://localhost:8080/"
        }
      },
      "id": "ocuM1KjEL6ZF",
      "execution_count": 34,
      "outputs": [
        {
          "output_type": "stream",
          "name": "stdout",
          "text": [
            "    subject_id   stay_id  seq_num icd_code  icd_version  \\\n",
            "0     10000032  32952584        1     4589            9   \n",
            "1     10000032  32952584        2    07070            9   \n",
            "2     10000032  32952584        3      V08            9   \n",
            "3     10000032  33258284        1     5728            9   \n",
            "4     10000032  33258284        2    78959            9   \n",
            "5     10000032  33258284        3    07070            9   \n",
            "6     10000032  33258284        4      V08            9   \n",
            "7     10000032  35968195        1     5715            9   \n",
            "8     10000032  35968195        2    78900            9   \n",
            "9     10000032  35968195        3      V08            9   \n",
            "10    10000032  38112554        1    78959            9   \n",
            "11    10000032  38112554        2    07070            9   \n",
            "12    10000032  38112554        3     5715            9   \n",
            "13    10000032  38112554        4      V08            9   \n",
            "14    10000032  39399961        1    78097            9   \n",
            "15    10000032  39399961        2    34830            9   \n",
            "16    10000084  35203156        1     R531           10   \n",
            "17    10000084  35203156        2      G20           10   \n",
            "18    10000084  36954971        1    R4182           10   \n",
            "19    10000084  36954971        2    F0390           10   \n",
            "\n",
            "                                            icd_title  \n",
            "0                                     HYPOTENSION NOS  \n",
            "1   UNSPECIFIED VIRAL HEPATITIS C WITHOUT HEPATIC ...  \n",
            "2                          ASYMPTOMATIC HIV INFECTION  \n",
            "3                            OTH SEQUELA, CHR LIV DIS  \n",
            "4                                       OTHER ASCITES  \n",
            "5   UNSPECIFIED VIRAL HEPATITIS C WITHOUT HEPATIC ...  \n",
            "6                          ASYMPTOMATIC HIV INFECTION  \n",
            "7                              CIRRHOSIS OF LIVER NOS  \n",
            "8                          ABDOMINAL PAIN UNSPEC SITE  \n",
            "9                          ASYMPTOMATIC HIV INFECTION  \n",
            "10                                      OTHER ASCITES  \n",
            "11  UNSPECIFIED VIRAL HEPATITIS C WITHOUT HEPATIC ...  \n",
            "12                             CIRRHOSIS OF LIVER NOS  \n",
            "13                         ASYMPTOMATIC HIV INFECTION  \n",
            "14                             ALTERED MENTAL STATUS   \n",
            "15                        ENCEPHALOPATHY, UNSPECIFIED  \n",
            "16                                           Weakness  \n",
            "17                                Parkinson's disease  \n",
            "18                 Altered mental status, unspecified  \n",
            "19  Unspecified dementia without behavioral distur...  \n"
          ]
        }
      ]
    },
    {
      "cell_type": "code",
      "execution_count": 35,
      "id": "f7cdf99e",
      "metadata": {
        "id": "f7cdf99e"
      },
      "outputs": [],
      "source": [
        "# Install and use icd-mappings\n",
        "mapper = Mapper()"
      ]
    },
    {
      "cell_type": "code",
      "execution_count": 36,
      "id": "38facbaf",
      "metadata": {
        "id": "38facbaf"
      },
      "outputs": [],
      "source": [
        "# Separate ICD9 and ICD10 codes\n",
        "diagnosis[\"icd_code_str\"] = diagnosis[\"icd_code\"].astype(str)\n",
        "icd9_mask = diagnosis[\"icd_version\"] == 9\n",
        "icd10_mask = diagnosis[\"icd_version\"] == 10"
      ]
    },
    {
      "cell_type": "code",
      "execution_count": 37,
      "id": "5ad6d304",
      "metadata": {
        "id": "5ad6d304"
      },
      "outputs": [],
      "source": [
        "# Map ICD9 → ICD10\n",
        "diagnosis[\"icd10_mapped\"] = None\n",
        "diagnosis.loc[icd9_mask, \"icd10_mapped\"] = mapper.map(\n",
        "    diagnosis.loc[icd9_mask, \"icd_code_str\"].tolist(),\n",
        "    source='icd9',\n",
        "    target='icd10'\n",
        ")"
      ]
    },
    {
      "cell_type": "code",
      "execution_count": 38,
      "id": "68e6ef68",
      "metadata": {
        "id": "68e6ef68"
      },
      "outputs": [],
      "source": [
        "# Map ICD10 (native and mapped) to chapters\n",
        "diagnosis[\"chapter\"] = None"
      ]
    },
    {
      "cell_type": "code",
      "execution_count": 39,
      "id": "c794db72",
      "metadata": {
        "id": "c794db72"
      },
      "outputs": [],
      "source": [
        "# ICD10 native\n",
        "diagnosis.loc[icd10_mask, \"chapter\"] = mapper.map(\n",
        "    diagnosis.loc[icd10_mask, \"icd_code_str\"].tolist(),\n",
        "    source='icd10',\n",
        "    target='chapter'\n",
        ")"
      ]
    },
    {
      "cell_type": "code",
      "execution_count": 40,
      "id": "4b12cd36",
      "metadata": {
        "id": "4b12cd36"
      },
      "outputs": [],
      "source": [
        "# ICD9 converted to ICD10 → chapter\n",
        "diagnosis.loc[icd9_mask, \"chapter\"] = mapper.map(\n",
        "    diagnosis.loc[icd9_mask, \"icd10_mapped\"],\n",
        "    source='icd10',\n",
        "    target='chapter'\n",
        ")"
      ]
    },
    {
      "cell_type": "code",
      "execution_count": 41,
      "id": "81f7a665",
      "metadata": {
        "id": "81f7a665",
        "outputId": "4abb6699-0cc2-464e-bf18-95a2f8d77dfa",
        "colab": {
          "base_uri": "https://localhost:8080/"
        }
      },
      "outputs": [
        {
          "output_type": "stream",
          "name": "stdout",
          "text": [
            "    subject_id   stay_id  seq_num icd_code  icd_version  \\\n",
            "0     10000032  32952584        1     4589            9   \n",
            "1     10000032  32952584        2    07070            9   \n",
            "2     10000032  32952584        3      V08            9   \n",
            "3     10000032  33258284        1     5728            9   \n",
            "4     10000032  33258284        2    78959            9   \n",
            "5     10000032  33258284        3    07070            9   \n",
            "6     10000032  33258284        4      V08            9   \n",
            "7     10000032  35968195        1     5715            9   \n",
            "8     10000032  35968195        2    78900            9   \n",
            "9     10000032  35968195        3      V08            9   \n",
            "10    10000032  38112554        1    78959            9   \n",
            "11    10000032  38112554        2    07070            9   \n",
            "12    10000032  38112554        3     5715            9   \n",
            "13    10000032  38112554        4      V08            9   \n",
            "14    10000032  39399961        1    78097            9   \n",
            "15    10000032  39399961        2    34830            9   \n",
            "16    10000084  35203156        1     R531           10   \n",
            "17    10000084  35203156        2      G20           10   \n",
            "18    10000084  36954971        1    R4182           10   \n",
            "19    10000084  36954971        2    F0390           10   \n",
            "\n",
            "                                            icd_title icd_code_str  \\\n",
            "0                                     HYPOTENSION NOS         4589   \n",
            "1   UNSPECIFIED VIRAL HEPATITIS C WITHOUT HEPATIC ...        07070   \n",
            "2                          ASYMPTOMATIC HIV INFECTION          V08   \n",
            "3                            OTH SEQUELA, CHR LIV DIS         5728   \n",
            "4                                       OTHER ASCITES        78959   \n",
            "5   UNSPECIFIED VIRAL HEPATITIS C WITHOUT HEPATIC ...        07070   \n",
            "6                          ASYMPTOMATIC HIV INFECTION          V08   \n",
            "7                              CIRRHOSIS OF LIVER NOS         5715   \n",
            "8                          ABDOMINAL PAIN UNSPEC SITE        78900   \n",
            "9                          ASYMPTOMATIC HIV INFECTION          V08   \n",
            "10                                      OTHER ASCITES        78959   \n",
            "11  UNSPECIFIED VIRAL HEPATITIS C WITHOUT HEPATIC ...        07070   \n",
            "12                             CIRRHOSIS OF LIVER NOS         5715   \n",
            "13                         ASYMPTOMATIC HIV INFECTION          V08   \n",
            "14                             ALTERED MENTAL STATUS         78097   \n",
            "15                        ENCEPHALOPATHY, UNSPECIFIED        34830   \n",
            "16                                           Weakness         R531   \n",
            "17                                Parkinson's disease          G20   \n",
            "18                 Altered mental status, unspecified        R4182   \n",
            "19  Unspecified dementia without behavioral distur...        F0390   \n",
            "\n",
            "   icd10_mapped chapter  \n",
            "0          I959       9  \n",
            "1         B1920       1  \n",
            "2           Z21      21  \n",
            "3         K7290      11  \n",
            "4          R188      18  \n",
            "5         B1920       1  \n",
            "6           Z21      21  \n",
            "7         K7469      11  \n",
            "8          R109      18  \n",
            "9           Z21      21  \n",
            "10         R188      18  \n",
            "11        B1920       1  \n",
            "12        K7469      11  \n",
            "13          Z21      21  \n",
            "14        R4182      18  \n",
            "15        G9340       6  \n",
            "16         None      18  \n",
            "17         None       6  \n",
            "18         None      18  \n",
            "19         None       5  \n"
          ]
        }
      ],
      "source": [
        "# Show example rows\n",
        "print(diagnosis.head(20))"
      ]
    }
  ],
  "metadata": {
    "language_info": {
      "name": "python"
    },
    "colab": {
      "provenance": []
    },
    "kernelspec": {
      "name": "python3",
      "display_name": "Python 3"
    }
  },
  "nbformat": 4,
  "nbformat_minor": 5
}